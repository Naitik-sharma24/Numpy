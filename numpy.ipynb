{
 "cells": [
  {
   "cell_type": "code",
   "execution_count": 2,
   "id": "313de9c6",
   "metadata": {},
   "outputs": [
    {
     "data": {
      "text/plain": [
       "'2.3.0'"
      ]
     },
     "execution_count": 2,
     "metadata": {},
     "output_type": "execute_result"
    }
   ],
   "source": [
    "##check numpy version\n",
    "\n",
    "import numpy as np \n",
    "#1d,2d,3d,4d   \n",
    "np.__version__\n"
   ]
  },
  {
   "cell_type": "code",
   "execution_count": 7,
   "id": "34931ca9",
   "metadata": {},
   "outputs": [
    {
     "data": {
      "text/plain": [
       "array([1, 2, 3, 4, 5])"
      ]
     },
     "execution_count": 7,
     "metadata": {},
     "output_type": "execute_result"
    }
   ],
   "source": [
    "lst=[1,2,3,4,5]\n",
    "ar1 = np.array(lst)\n",
    "ar1\n",
    "#print(type(ar1))"
   ]
  },
  {
   "cell_type": "code",
   "execution_count": 16,
   "id": "9cacb574",
   "metadata": {},
   "outputs": [
    {
     "data": {
      "text/plain": [
       "array(['1', '2', '3', '4', '5'], dtype='<U21')"
      ]
     },
     "execution_count": 16,
     "metadata": {},
     "output_type": "execute_result"
    }
   ],
   "source": [
    "lst = [1,2,\"3\",4,5]\n",
    "\n",
    "ar1 = np.array(lst)\n",
    "ar1"
   ]
  },
  {
   "cell_type": "code",
   "execution_count": 18,
   "id": "ba96c95d",
   "metadata": {},
   "outputs": [
    {
     "data": {
      "text/plain": [
       "array([1, 2, 3, 4, 5, 6, 7, 8, 9])"
      ]
     },
     "execution_count": 18,
     "metadata": {},
     "output_type": "execute_result"
    }
   ],
   "source": [
    "##when you to create an array in a range\n",
    "\n",
    "ar1 = np.arange(1,10)\n",
    "ar1\n"
   ]
  },
  {
   "cell_type": "code",
   "execution_count": 20,
   "id": "f8b3b30b",
   "metadata": {},
   "outputs": [
    {
     "data": {
      "text/plain": [
       "array([0, 1, 2, 3, 4])"
      ]
     },
     "execution_count": 20,
     "metadata": {},
     "output_type": "execute_result"
    }
   ],
   "source": [
    "ar3 = np.arange(5)\n",
    "ar3"
   ]
  },
  {
   "cell_type": "code",
   "execution_count": 25,
   "id": "879d7702",
   "metadata": {},
   "outputs": [
    {
     "data": {
      "text/plain": [
       "array([[0., 0., 0.],\n",
       "       [0., 0., 0.]])"
      ]
     },
     "execution_count": 25,
     "metadata": {},
     "output_type": "execute_result"
    }
   ],
   "source": [
    "arr4 = np.zeros((2,3))\n",
    "arr4"
   ]
  },
  {
   "cell_type": "code",
   "execution_count": 28,
   "id": "35235f59",
   "metadata": {},
   "outputs": [
    {
     "data": {
      "text/plain": [
       "array([ 0.        ,  0.40816327,  0.81632653,  1.2244898 ,  1.63265306,\n",
       "        2.04081633,  2.44897959,  2.85714286,  3.26530612,  3.67346939,\n",
       "        4.08163265,  4.48979592,  4.89795918,  5.30612245,  5.71428571,\n",
       "        6.12244898,  6.53061224,  6.93877551,  7.34693878,  7.75510204,\n",
       "        8.16326531,  8.57142857,  8.97959184,  9.3877551 ,  9.79591837,\n",
       "       10.20408163, 10.6122449 , 11.02040816, 11.42857143, 11.83673469,\n",
       "       12.24489796, 12.65306122, 13.06122449, 13.46938776, 13.87755102,\n",
       "       14.28571429, 14.69387755, 15.10204082, 15.51020408, 15.91836735,\n",
       "       16.32653061, 16.73469388, 17.14285714, 17.55102041, 17.95918367,\n",
       "       18.36734694, 18.7755102 , 19.18367347, 19.59183673, 20.        ])"
      ]
     },
     "execution_count": 28,
     "metadata": {},
     "output_type": "execute_result"
    }
   ],
   "source": [
    "#arr5 = np.linspace(1,10,5)  ## 1 to 10 range or kitne number chaiye 5\n",
    "arr5 = np.linspace(0,20,50)\n",
    "arr5"
   ]
  },
  {
   "cell_type": "code",
   "execution_count": null,
   "id": "cf84cfd6",
   "metadata": {},
   "outputs": [
    {
     "data": {
      "text/plain": [
       "array([[ 1,  2,  3,  4,  5,  6],\n",
       "       [ 7,  8,  9, 10, 11, 12],\n",
       "       [13, 14, 15, 16, 17, 18],\n",
       "       [19, 20, 21, 22, 23, 24],\n",
       "       [25, 26, 27, 28, 29, 30]])"
      ]
     },
     "execution_count": 29,
     "metadata": {},
     "output_type": "execute_result"
    }
   ],
   "source": [
    "##1d array\n",
    "arr1 = np.arange(1,31).reshape(5,6) ##shape change kar deta hai 1d ko 2d,3d me \n",
    "arr1"
   ]
  },
  {
   "cell_type": "code",
   "execution_count": 30,
   "id": "0ceb23d4",
   "metadata": {},
   "outputs": [
    {
     "data": {
      "text/plain": [
       "array([  9, 114, 102,   9, 111,  29, 109,  90, 100,  97], dtype=int32)"
      ]
     },
     "execution_count": 30,
     "metadata": {},
     "output_type": "execute_result"
    }
   ],
   "source": [
    "arr2 = np.random.randint(1,120,10)  ##random numbers ki array chaiye to ek function hai random joo random integer number dega\n",
    "arr2"
   ]
  },
  {
   "cell_type": "code",
   "execution_count": null,
   "id": "23dd9e56",
   "metadata": {},
   "outputs": [
    {
     "data": {
      "text/plain": [
       "array([0.10190243, 0.69588961, 0.53851671, 0.82268843, 0.35869467,\n",
       "       0.86082356, 0.3292395 , 0.98895657, 0.98702502, 0.28603828,\n",
       "       0.90852908, 0.38934266, 0.05945961, 0.94031371, 0.3538071 ,\n",
       "       0.38004962, 0.80833355, 0.28627053, 0.5805327 , 0.93954003,\n",
       "       0.37149933, 0.12754894, 0.10468075, 0.79987369, 0.98971519,\n",
       "       0.7813667 , 0.24298145, 0.10491217, 0.66043914, 0.57648818,\n",
       "       0.26330232, 0.70905734, 0.77349619, 0.03958222, 0.07847519,\n",
       "       0.14129751, 0.22145042, 0.47190354, 0.38466563, 0.34011008,\n",
       "       0.16083467, 0.69316971, 0.980441  , 0.3800569 , 0.06497858,\n",
       "       0.14094031, 0.48647772, 0.53392043, 0.33356206, 0.53277901,\n",
       "       0.21167523, 0.31887528, 0.12283754, 0.01826591, 0.3708979 ,\n",
       "       0.68967802, 0.57894925, 0.35204761, 0.46240005, 0.40564426,\n",
       "       0.38584092, 0.07278574, 0.05385637, 0.39095224, 0.35900138,\n",
       "       0.36521148, 0.20326247, 0.66490783, 0.35660512, 0.01554032])"
      ]
     },
     "execution_count": 32,
     "metadata": {},
     "output_type": "execute_result"
    }
   ],
   "source": [
    "arr2 = np.random.random(70) ##float ke liye \n",
    "arr2"
   ]
  },
  {
   "cell_type": "code",
   "execution_count": null,
   "id": "e9dfb8ab",
   "metadata": {},
   "outputs": [
    {
     "data": {
      "text/plain": [
       "2"
      ]
     },
     "execution_count": 43,
     "metadata": {},
     "output_type": "execute_result"
    }
   ],
   "source": [
    "##2d array\n",
    "arr2 = np.arange(60).reshape((12,5))  ##rows and column\n",
    "arr2.shape\n",
    "arr2.dtype  ##data type\n",
    "arr2.size\n",
    "arr2.ndim ##n dimension "
   ]
  },
  {
   "cell_type": "code",
   "execution_count": 48,
   "id": "a1a391c6",
   "metadata": {},
   "outputs": [
    {
     "data": {
      "text/plain": [
       "array([ 0,  1,  2,  3,  4,  5,  6,  7,  8,  9, 10, 11, 12, 13, 14, 15, 16,\n",
       "       17, 18, 19, 20, 21, 22, 23, 24, 25, 26, 27, 28, 29, 30, 31, 32, 33,\n",
       "       34, 35, 36, 37, 38, 39, 40, 41, 42, 43, 44, 45, 46, 47, 48, 49, 50,\n",
       "       51, 52, 53, 54, 55, 56, 57, 58, 59])"
      ]
     },
     "execution_count": 48,
     "metadata": {},
     "output_type": "execute_result"
    }
   ],
   "source": [
    "##multi dimension array ko conert karte hai 1d me \n",
    "arr2.ravel()\n",
    "arr2.flatten()"
   ]
  },
  {
   "cell_type": "code",
   "execution_count": 51,
   "id": "1a1a037d",
   "metadata": {},
   "outputs": [
    {
     "name": "stdout",
     "output_type": "stream",
     "text": [
      "(12, 5)\n"
     ]
    },
    {
     "data": {
      "text/plain": [
       "(5, 12)"
      ]
     },
     "execution_count": 51,
     "metadata": {},
     "output_type": "execute_result"
    }
   ],
   "source": [
    "arr8 = np.arange(60).reshape((12,5))\n",
    "print(arr8.shape)\n",
    "\n",
    "arr9 = arr8.T.shape\n",
    "arr9\n",
    "\n"
   ]
  },
  {
   "cell_type": "code",
   "execution_count": null,
   "id": "52726079",
   "metadata": {},
   "outputs": [],
   "source": [
    "##Indexing and Slicing\n",
    "###1D Array\n",
    "##slicing\n",
    "arr1 = np.arange(1,10)[1:5]\n",
    "print(arr1)\n",
    "\n",
    "##indexing\n"
   ]
  },
  {
   "cell_type": "code",
   "execution_count": 94,
   "id": "94122034",
   "metadata": {},
   "outputs": [
    {
     "data": {
      "text/plain": [
       "array([[ 1,  2,  3,  4],\n",
       "       [ 5,  6,  7,  8],\n",
       "       [ 9, 10, 11, 12],\n",
       "       [13, 14, 15, 16],\n",
       "       [17, 18, 19, 20],\n",
       "       [21, 22, 23, 24],\n",
       "       [25, 26, 27, 28],\n",
       "       [29, 30, 31, 32],\n",
       "       [33, 34, 35, 36],\n",
       "       [37, 38, 39, 40],\n",
       "       [41, 42, 43, 44],\n",
       "       [45, 46, 47, 48],\n",
       "       [49, 50, 51, 52],\n",
       "       [53, 54, 55, 56],\n",
       "       [57, 58, 59, 60]])"
      ]
     },
     "execution_count": 94,
     "metadata": {},
     "output_type": "execute_result"
    }
   ],
   "source": [
    "##2D Array \n",
    "arr10 = np.arange(1,61).reshape(15,4)\n",
    "arr10"
   ]
  },
  {
   "cell_type": "code",
   "execution_count": null,
   "id": "a3b060f4",
   "metadata": {},
   "outputs": [
    {
     "data": {
      "text/plain": [
       "array([[[  0,   1,   2,   3,   4],\n",
       "        [  5,   6,   7,   8,   9],\n",
       "        [ 10,  11,  12,  13,  14],\n",
       "        [ 15,  16,  17,  18,  19],\n",
       "        [ 20,  21,  22,  23,  24],\n",
       "        [ 25,  26,  27,  28,  29],\n",
       "        [ 30,  31,  32,  33,  34],\n",
       "        [ 35,  36,  37,  38,  39],\n",
       "        [ 40,  41,  42,  43,  44],\n",
       "        [ 45,  46,  47,  48,  49],\n",
       "        [ 50,  51,  52,  53,  54],\n",
       "        [ 55,  56,  57,  58,  59],\n",
       "        [ 60,  61,  62,  63,  64],\n",
       "        [ 65,  66,  67,  68,  69],\n",
       "        [ 70,  71,  72,  73,  74]],\n",
       "\n",
       "       [[ 75,  76,  77,  78,  79],\n",
       "        [ 80,  81,  82,  83,  84],\n",
       "        [ 85,  86,  87,  88,  89],\n",
       "        [ 90,  91,  92,  93,  94],\n",
       "        [ 95,  96,  97,  98,  99],\n",
       "        [100, 101, 102, 103, 104],\n",
       "        [105, 106, 107, 108, 109],\n",
       "        [110, 111, 112, 113, 114],\n",
       "        [115, 116, 117, 118, 119],\n",
       "        [120, 121, 122, 123, 124],\n",
       "        [125, 126, 127, 128, 129],\n",
       "        [130, 131, 132, 133, 134],\n",
       "        [135, 136, 137, 138, 139],\n",
       "        [140, 141, 142, 143, 144],\n",
       "        [145, 146, 147, 148, 149]],\n",
       "\n",
       "       [[150, 151, 152, 153, 154],\n",
       "        [155, 156, 157, 158, 159],\n",
       "        [160, 161, 162, 163, 164],\n",
       "        [165, 166, 167, 168, 169],\n",
       "        [170, 171, 172, 173, 174],\n",
       "        [175, 176, 177, 178, 179],\n",
       "        [180, 181, 182, 183, 184],\n",
       "        [185, 186, 187, 188, 189],\n",
       "        [190, 191, 192, 193, 194],\n",
       "        [195, 196, 197, 198, 199],\n",
       "        [200, 201, 202, 203, 204],\n",
       "        [205, 206, 207, 208, 209],\n",
       "        [210, 211, 212, 213, 214],\n",
       "        [215, 216, 217, 218, 219],\n",
       "        [220, 221, 222, 223, 224]]])"
      ]
     },
     "execution_count": 93,
     "metadata": {},
     "output_type": "execute_result"
    }
   ],
   "source": [
    "###3D Array\n",
    "arr11 = np.arange(225).reshape(3,15,5)  ##3=table,15=rows,5=column\n",
    "arr11"
   ]
  },
  {
   "cell_type": "code",
   "execution_count": null,
   "id": "8938f33b",
   "metadata": {},
   "outputs": [
    {
     "data": {
      "text/plain": [
       "array([[['a'],\n",
       "        ['b'],\n",
       "        ['c'],\n",
       "        ['d'],\n",
       "        ['e'],\n",
       "        ['f'],\n",
       "        ['g'],\n",
       "        ['h'],\n",
       "        ['i'],\n",
       "        ['j'],\n",
       "        ['k'],\n",
       "        ['l'],\n",
       "        ['m']],\n",
       "\n",
       "       [['n'],\n",
       "        ['o'],\n",
       "        ['p'],\n",
       "        ['q'],\n",
       "        ['r'],\n",
       "        ['s'],\n",
       "        ['t'],\n",
       "        ['u'],\n",
       "        ['v'],\n",
       "        ['w'],\n",
       "        ['x'],\n",
       "        ['y'],\n",
       "        ['z']]], dtype='<U1')"
      ]
     },
     "execution_count": 121,
     "metadata": {},
     "output_type": "execute_result"
    }
   ],
   "source": [
    "# Create a 3D numpy array with elements from 'a' to 'z'\n",
    "arr12 = np.array(list('abcdefghijklmnopqrstuvwxyz')).reshape(2, 13, 2)\n",
    "arr12"
   ]
  },
  {
   "cell_type": "code",
   "execution_count": null,
   "id": "e16d645d",
   "metadata": {},
   "outputs": [],
   "source": [
    "##slicing in 3D Array\n",
    "##[table start : table end : table skip, row start : row end : row skip, col start : col end : col skip]"
   ]
  },
  {
   "cell_type": "code",
   "execution_count": 133,
   "id": "8ae04ba7",
   "metadata": {},
   "outputs": [
    {
     "data": {
      "text/plain": [
       "np.float64(17.318102282486574)"
      ]
     },
     "execution_count": 133,
     "metadata": {},
     "output_type": "execute_result"
    }
   ],
   "source": [
    "np.max(arr8)\n",
    "np.min(arr8)\n",
    "np.sum(arr8)\n",
    "np.mean(arr8)\n",
    "np.median(arr8)\n",
    "np.std(arr8)\n"
   ]
  },
  {
   "cell_type": "code",
   "execution_count": 134,
   "id": "4cc51672",
   "metadata": {},
   "outputs": [],
   "source": [
    "arr8.sort()"
   ]
  },
  {
   "cell_type": "code",
   "execution_count": null,
   "id": "dae2510a",
   "metadata": {},
   "outputs": [
    {
     "data": {
      "text/plain": [
       "array([2, 0, 1, 3])"
      ]
     },
     "execution_count": 136,
     "metadata": {},
     "output_type": "execute_result"
    }
   ],
   "source": [
    "arr13 = np.array([2,5,1,9])   \n",
    "arr13.argsort() ####index number ko sort karta hai return sorted index"
   ]
  },
  {
   "cell_type": "code",
   "execution_count": 137,
   "id": "2bb10af7",
   "metadata": {},
   "outputs": [
    {
     "data": {
      "text/plain": [
       "array([4, 6, 8])"
      ]
     },
     "execution_count": 137,
     "metadata": {},
     "output_type": "execute_result"
    }
   ],
   "source": [
    "arr11*2"
   ]
  },
  {
   "cell_type": "code",
   "execution_count": 141,
   "id": "6c08eedb",
   "metadata": {},
   "outputs": [
    {
     "data": {
      "text/plain": [
       "array([[[[[[1, 2, 3, 4, 5]]]]]])"
      ]
     },
     "execution_count": 141,
     "metadata": {},
     "output_type": "execute_result"
    }
   ],
   "source": [
    "##lst - \n",
    "## arr14 = np.array([1,2,\"3\",4,5])\n",
    "ar14 = np.array([1,2,3,4,5],ndmin=6)\n",
    "ar14"
   ]
  },
  {
   "cell_type": "code",
   "execution_count": null,
   "id": "3f3de34c",
   "metadata": {},
   "outputs": [],
   "source": []
  }
 ],
 "metadata": {
  "kernelspec": {
   "display_name": "Python 3",
   "language": "python",
   "name": "python3"
  },
  "language_info": {
   "codemirror_mode": {
    "name": "ipython",
    "version": 3
   },
   "file_extension": ".py",
   "mimetype": "text/x-python",
   "name": "python",
   "nbconvert_exporter": "python",
   "pygments_lexer": "ipython3",
   "version": "3.11.9"
  }
 },
 "nbformat": 4,
 "nbformat_minor": 5
}
